{
 "cells": [
  {
   "cell_type": "code",
   "execution_count": 1,
   "id": "ed057244",
   "metadata": {},
   "outputs": [],
   "source": [
    "using Revise"
   ]
  },
  {
   "cell_type": "code",
   "execution_count": 2,
   "id": "40ad6cad",
   "metadata": {},
   "outputs": [],
   "source": [
    "using DrWatson\n",
    "@quickactivate :LowRankVlasov1D1V"
   ]
  },
  {
   "cell_type": "code",
   "execution_count": 4,
   "id": "0e997bef",
   "metadata": {},
   "outputs": [],
   "source": [
    "using GLMakie\n",
    "using LinearAlgebra\n",
    "using ProgressMeter"
   ]
  },
  {
   "cell_type": "code",
   "execution_count": null,
   "id": "d0f1692e",
   "metadata": {},
   "outputs": [],
   "source": [
    "Revise.retry()"
   ]
  },
  {
   "cell_type": "code",
   "execution_count": 57,
   "id": "3d68dc64",
   "metadata": {},
   "outputs": [
    {
     "name": "stdout",
     "output_type": "stream",
     "text": [
      "size(domain.v) = (160,)\n",
      "size(domain.x) = (128,)\n"
     ]
    },
    {
     "data": {
      "text/plain": [
       "η0 (generic function with 1 method)"
      ]
     },
     "execution_count": 57,
     "metadata": {},
     "output_type": "execute_result"
    }
   ],
   "source": [
    "domain = make_domain(nx=128, x_min=0.0, x_max=2π, nv=160, v_min=-10.0);\n",
    "@show size(domain.v)\n",
    "\n",
    "f0(x, v) = begin\n",
    "    ρ(x) = 1.0 + 0.001 * cos(x)\n",
    "    M(v, u, T) = 1 / (√(2π*T)) * exp(-(v - u)^2 / 2T)\n",
    "\n",
    "    (ρ(x) * M(v, 2.0, 0.2) + ρ(x-π) * M(v, -2.0, 0.2))\n",
    "end\n",
    "\n",
    "@show size(domain.x)\n",
    "η0(x) = 1.0\n"
   ]
  },
  {
   "cell_type": "code",
   "execution_count": 62,
   "id": "4637dbbe",
   "metadata": {
    "scrolled": false
   },
   "outputs": [
    {
     "name": "stderr",
     "output_type": "stream",
     "text": [
      "\u001b[32mProgress: 100%|█████████████████████████████████████████| Time: 0:00:12\u001b[39m\n"
     ]
    },
    {
     "name": "stdout",
     "output_type": "stream",
     "text": [
      "nt = Int(round(T / Δt)) = 9286\n"
     ]
    },
    {
     "data": {
      "text/plain": [
       "465"
      ]
     },
     "execution_count": 62,
     "metadata": {},
     "output_type": "execute_result"
    }
   ],
   "source": [
    "sim = initial_condition(domain, f0, η0, r=10, q=-sqrt(10));\n",
    "f_init = expand_f(sim)\n",
    "\n",
    "T = 6.5\n",
    "t = 0.0\n",
    "Δt = 0.0007\n",
    "@show nt = Int(round(T / Δt))\n",
    "prog = Progress(nt)\n",
    "\n",
    "Xs = [sim.X]\n",
    "Ss = [sim.S]\n",
    "Vs = [sim.V]\n",
    "E2s = [norm(sim.E)^2 * domain.dx]\n",
    "ts = [0.0]\n",
    "\n",
    "for i in 1:nt\n",
    "    step!(sim, Δt)\n",
    "    t += Δt\n",
    "    if i % 20 == 0\n",
    "        push!(Xs, sim.X)\n",
    "        push!(Ss, sim.S)\n",
    "        push!(Vs, sim.V)\n",
    "        push!(E2s, norm(sim.E)^2 * domain.dx)\n",
    "        push!(ts, t)\n",
    "    end\n",
    "    next!(prog)\n",
    "end\n",
    "\n",
    "nframes = length(Xs)"
   ]
  },
  {
   "cell_type": "code",
   "execution_count": 63,
   "id": "0ad8ea18",
   "metadata": {},
   "outputs": [
    {
     "name": "stderr",
     "output_type": "stream",
     "text": [
      "\u001b[32mProgress: 100%|█████████████████████████████████████████| Time: 0:00:06\u001b[39m\n"
     ]
    },
    {
     "data": {
      "text/plain": [
       "\"../plots/two_stream_rank_10.mp4\""
      ]
     },
     "execution_count": 63,
     "metadata": {},
     "output_type": "execute_result"
    }
   ],
   "source": [
    "fig = Figure()\n",
    "hm_ax = Axis(fig[1, 1], title=\"Phase space distribution\", xlabel=\"x\", ylabel=\"v\")\n",
    "E2_ax = Axis(fig[2, 1], title=\"Log Electric energy\", xlabel=\"t\", ylabel=\"|E|²\", yscale=log10)\n",
    "xlims!(E2_ax, extrema(ts))\n",
    "ylims!(E2_ax, (1e-8, maximum(E2s)*2.0))\n",
    "\n",
    "prog = Progress(nframes)\n",
    "\n",
    "t_E2 = Observable(Point2f[])\n",
    "f = Observable(Xs[1] * Ss[1] * Vs[1]')\n",
    "lims = @lift extrema($f)\n",
    "\n",
    "lines!(E2_ax, t_E2)\n",
    "heatmap!(hm_ax, domain.x, domain.v, f)\n",
    "Colorbar(fig[1, 2], limits=lims)\n",
    "\n",
    "record(fig, \"../plots/two_stream_rank_10.mp4\", 1:nframes; framerate=60) do frame\n",
    "    point = Point2f(ts[frame], E2s[frame])\n",
    "    t_E2[] = push!(t_E2[], point)\n",
    "    f[] = Xs[frame] * Ss[frame] * Vs[frame]'\n",
    "    next!(prog)\n",
    "end\n"
   ]
  },
  {
   "cell_type": "code",
   "execution_count": 58,
   "id": "90bd6c44",
   "metadata": {
    "scrolled": false
   },
   "outputs": [
    {
     "name": "stderr",
     "output_type": "stream",
     "text": [
      "\u001b[32mProgress: 100%|█████████████████████████████████████████| Time: 0:00:49\u001b[39m\n"
     ]
    },
    {
     "name": "stdout",
     "output_type": "stream",
     "text": [
      "nt = Int(round(T / Δt)) = 13000\n"
     ]
    },
    {
     "data": {
      "text/plain": [
       "651"
      ]
     },
     "execution_count": 58,
     "metadata": {},
     "output_type": "execute_result"
    }
   ],
   "source": [
    "sim = initial_condition(domain, f0, η0, r=20, q=-sqrt(10));\n",
    "f_init = expand_f(sim)\n",
    "\n",
    "T = 6.5\n",
    "t = 0.0\n",
    "Δt = 0.0005\n",
    "@show nt = Int(round(T / Δt))\n",
    "prog = Progress(nt)\n",
    "\n",
    "Xs = [sim.X]\n",
    "Ss = [sim.S]\n",
    "Vs = [sim.V]\n",
    "E2s = [norm(sim.E)^2 * domain.dx]\n",
    "ts = [0.0]\n",
    "\n",
    "for i in 1:nt\n",
    "    step!(sim, Δt)\n",
    "    t += Δt\n",
    "    if i % 20 == 0\n",
    "        push!(Xs, sim.X)\n",
    "        push!(Ss, sim.S)\n",
    "        push!(Vs, sim.V)\n",
    "        push!(E2s, norm(sim.E)^2 * domain.dx)\n",
    "        push!(ts, t)\n",
    "    end\n",
    "    next!(prog)\n",
    "end\n",
    "\n",
    "nframes = length(Xs)"
   ]
  },
  {
   "cell_type": "code",
   "execution_count": 59,
   "id": "70ba484f",
   "metadata": {},
   "outputs": [
    {
     "name": "stderr",
     "output_type": "stream",
     "text": [
      "\u001b[32mProgress: 100%|█████████████████████████████████████████| Time: 0:00:08\u001b[39m\n"
     ]
    },
    {
     "data": {
      "text/plain": [
       "\"../plots/two_stream_rank_20_copyout.mp4\""
      ]
     },
     "execution_count": 59,
     "metadata": {},
     "output_type": "execute_result"
    }
   ],
   "source": [
    "fig = Figure()\n",
    "hm_ax = Axis(fig[1, 1], title=\"Phase space distribution\", xlabel=\"x\", ylabel=\"v\")\n",
    "E2_ax = Axis(fig[2, 1], title=\"Log Electric energy\", xlabel=\"t\", ylabel=\"|E|²\", yscale=log10)\n",
    "xlims!(E2_ax, extrema(ts))\n",
    "ylims!(E2_ax, (1e-8, maximum(E2s)*2.0))\n",
    "\n",
    "prog = Progress(nframes)\n",
    "\n",
    "t_E2 = Observable(Point2f[])\n",
    "f = Observable(Xs[1] * Ss[1] * Vs[1]')\n",
    "lims = @lift extrema($f)\n",
    "\n",
    "lines!(E2_ax, t_E2)\n",
    "heatmap!(hm_ax, domain.x, domain.v, f)\n",
    "Colorbar(fig[1, 2], limits=lims)\n",
    "\n",
    "record(fig, \"../plots/two_stream_rank_20_copyout.mp4\", 1:nframes; framerate=60) do frame\n",
    "    point = Point2f(ts[frame], E2s[frame])\n",
    "    t_E2[] = push!(t_E2[], point)\n",
    "    f[] = Xs[frame] * Ss[frame] * Vs[frame]'\n",
    "    next!(prog)\n",
    "end\n"
   ]
  },
  {
   "cell_type": "code",
   "execution_count": 64,
   "id": "287601bf",
   "metadata": {
    "scrolled": false
   },
   "outputs": [
    {
     "name": "stderr",
     "output_type": "stream",
     "text": [
      "\u001b[32mProgress: 100%|█████████████████████████████████████████| Time: 0:02:08\u001b[39m\n"
     ]
    },
    {
     "name": "stdout",
     "output_type": "stream",
     "text": [
      "nt = Int(round(T / Δt)) = 21000\n"
     ]
    },
    {
     "data": {
      "text/plain": [
       "1051"
      ]
     },
     "execution_count": 64,
     "metadata": {},
     "output_type": "execute_result"
    }
   ],
   "source": [
    "sim = initial_condition(domain, f0, η0, r=30, q=-sqrt(10));\n",
    "f_init = expand_f(sim)\n",
    "\n",
    "T = 10.5\n",
    "t = 0.0\n",
    "Δt = 0.0005\n",
    "@show nt = Int(round(T / Δt))\n",
    "prog = Progress(nt)\n",
    "\n",
    "Xs = [sim.X]\n",
    "Ss = [sim.S]\n",
    "Vs = [sim.V]\n",
    "E2s = [norm(sim.E)^2 * domain.dx]\n",
    "ts = [0.0]\n",
    "\n",
    "for i in 1:nt\n",
    "    step!(sim, Δt)\n",
    "    t += Δt\n",
    "    if i % 20 == 0\n",
    "        push!(Xs, sim.X)\n",
    "        push!(Ss, sim.S)\n",
    "        push!(Vs, sim.V)\n",
    "        push!(E2s, norm(sim.E)^2 * domain.dx)\n",
    "        push!(ts, t)\n",
    "    end\n",
    "    next!(prog)\n",
    "end\n",
    "\n",
    "nframes = length(Xs)"
   ]
  },
  {
   "cell_type": "code",
   "execution_count": 65,
   "id": "f3b740a1",
   "metadata": {},
   "outputs": [
    {
     "name": "stderr",
     "output_type": "stream",
     "text": [
      "\u001b[32mProgress: 100%|█████████████████████████████████████████| Time: 0:00:12\u001b[39m\n"
     ]
    },
    {
     "data": {
      "text/plain": [
       "\"../plots/two_stream_rank_30.mp4\""
      ]
     },
     "execution_count": 65,
     "metadata": {},
     "output_type": "execute_result"
    }
   ],
   "source": [
    "fig = Figure()\n",
    "hm_ax = Axis(fig[1, 1], title=\"Phase space distribution\", xlabel=\"x\", ylabel=\"v\")\n",
    "E2_ax = Axis(fig[2, 1], title=\"Log Electric energy\", xlabel=\"t\", ylabel=\"|E|²\", yscale=log10)\n",
    "xlims!(E2_ax, extrema(ts))\n",
    "ylims!(E2_ax, (1e-8, maximum(E2s)*2.0))\n",
    "\n",
    "prog = Progress(nframes)\n",
    "\n",
    "t_E2 = Observable(Point2f[])\n",
    "f = Observable(Xs[1] * Ss[1] * Vs[1]')\n",
    "lims = @lift extrema($f)\n",
    "\n",
    "lines!(E2_ax, t_E2)\n",
    "heatmap!(hm_ax, domain.x, domain.v, f)\n",
    "Colorbar(fig[1, 2], limits=lims)\n",
    "\n",
    "record(fig, \"../plots/two_stream_rank_30.mp4\", 1:nframes; framerate=60) do frame\n",
    "    point = Point2f(ts[frame], E2s[frame])\n",
    "    t_E2[] = push!(t_E2[], point)\n",
    "    f[] = Xs[frame] * Ss[frame] * Vs[frame]'\n",
    "    next!(prog)\n",
    "end\n"
   ]
  },
  {
   "cell_type": "code",
   "execution_count": 69,
   "id": "d9105720",
   "metadata": {
    "scrolled": false
   },
   "outputs": [
    {
     "name": "stderr",
     "output_type": "stream",
     "text": [
      "\u001b[32mProgress: 100%|█████████████████████████████████████████| Time: 0:02:04\u001b[39m\n"
     ]
    },
    {
     "name": "stdout",
     "output_type": "stream",
     "text": [
      "nt = Int(round(T / Δt)) = 21000\n"
     ]
    },
    {
     "data": {
      "image/png": "[encoded data removed]",
      "text/plain": [
       "Figure()"
      ]
     },
     "execution_count": 69,
     "metadata": {},
     "output_type": "execute_result"
    }
   ],
   "source": [
    "sim = full_tensor_initial_condition(domain, f0, η0, q=-sqrt(10));\n",
    "\n",
    "T = 10.5\n",
    "t = 0.0\n",
    "Δt = 0.0005\n",
    "E2 = Float64[]\n",
    "@show nt = Int(round(T / Δt))\n",
    "prog = Progress(nt)\n",
    "for i in 1:nt\n",
    "    step!(sim, Δt)\n",
    "    push!(E2, norm(sim.E)^2 * domain.dx)\n",
    "    next!(prog)\n",
    "end"
   ]
  },
  {
   "cell_type": "code",
   "execution_count": 71,
   "id": "285b8ff8",
   "metadata": {},
   "outputs": [],
   "source": [
    "fig = Figure()\n",
    "ax = Axis(fig[1, 1])\n",
    "hm = heatmap!(ax, sim.f)\n",
    "Colorbar(fig[1, 2], hm)\n",
    "ax = Axis(fig[2, 1])\n",
    "lines!(ax, Δt .* (2:nt), log.(E2[2:end]))\n",
    "save(\"../plots/full_tensor.png\", fig)"
   ]
  },
  {
   "cell_type": "code",
   "execution_count": null,
   "id": "d11c4a6d",
   "metadata": {},
   "outputs": [],
   "source": [
    "svd(sim.S).S"
   ]
  },
  {
   "cell_type": "code",
   "execution_count": null,
   "id": "88128e95",
   "metadata": {},
   "outputs": [],
   "source": [
    "fig = Figure()\n",
    "ax = Axis(fig[1, 1])\n",
    "lines!(ax, domain.v, (sim.S * sim.V')[5, :])\n",
    "fig"
   ]
  },
  {
   "cell_type": "code",
   "execution_count": null,
   "id": "03ebb5c9",
   "metadata": {},
   "outputs": [],
   "source": [
    "fig = Figure()\n",
    "ax = Axis(fig[1, 1])\n",
    "lines!(ax, domain.x, (sim.X * sim.S)[:, 5])\n",
    "fig"
   ]
  }
 ],
 "metadata": {
  "kernelspec": {
   "display_name": "Julia 1.7.2",
   "language": "julia",
   "name": "julia-1.7"
  },
  "language_info": {
   "file_extension": ".jl",
   "mimetype": "application/julia",
   "name": "julia",
   "version": "1.7.2"
  }
 },
 "nbformat": 4,
 "nbformat_minor": 5
}
